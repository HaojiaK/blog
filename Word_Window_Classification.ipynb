{
  "nbformat": 4,
  "nbformat_minor": 0,
  "metadata": {
    "colab": {
      "provenance": [],
      "authorship_tag": "ABX9TyMU5EzkUp9B37WTjD2Dnysj",
      "include_colab_link": true
    },
    "kernelspec": {
      "name": "python3",
      "display_name": "Python 3"
    },
    "language_info": {
      "name": "python"
    }
  },
  "cells": [
    {
      "cell_type": "markdown",
      "metadata": {
        "id": "view-in-github",
        "colab_type": "text"
      },
      "source": [
        "<a href=\"https://colab.research.google.com/github/HaojiaK/blog/blob/cs224n_Natural_Language_Processing/Word_Window_Classification.ipynb\" target=\"_parent\"><img src=\"https://colab.research.google.com/assets/colab-badge.svg\" alt=\"Open In Colab\"/></a>"
      ]
    },
    {
      "cell_type": "code",
      "source": [
        "import torch\n",
        "import torch.nn as nn\n",
        "import pprint\n",
        "pp = pprint.PrettyPrinter()\n",
        "\n",
        "#Data\n",
        "#Our raw data, which consists of sentences\n",
        "corpus = [\n",
        "    \"We always come to Paris\",\n",
        "    \"The professor is from Australia\",\n",
        "    \"I live in Stanford\",\n",
        "    \"He comes from Taiwan\",\n",
        "    \"The capital of Turkey is Ankara\"\n",
        "      ]\n",
        "\n",
        "#Preprocessing\n",
        "def preprocess_sentence(sentence):\n",
        "  return sentence.lower().split()\n",
        "\n",
        "train_sentences = [sent.lower().split() for sent in corpus]\n",
        "print(train_sentences) #看一下切割分词后的效果"
      ],
      "metadata": {
        "colab": {
          "base_uri": "https://localhost:8080/"
        },
        "id": "rT2cCg077mY7",
        "outputId": "40c65c13-f01b-46d1-ac7f-b592609dbc1f"
      },
      "execution_count": null,
      "outputs": [
        {
          "output_type": "stream",
          "name": "stdout",
          "text": [
            "[['we', 'always', 'come', 'to', 'paris'], ['the', 'professor', 'is', 'from', 'australia'], ['i', 'live', 'in', 'stanford'], ['he', 'comes', 'from', 'taiwan'], ['the', 'capital', 'of', 'turkey', 'is', 'ankara']]\n"
          ]
        }
      ]
    },
    {
      "cell_type": "code",
      "source": [
        "locations = set([\"australia\",\"ankara\",\"paris\",\"stanford\",\"taiwan\",\"turkey\"])\n",
        "\n",
        "train_labels = [[1 if word in locations else 0 for word in sent] for sent in train_sentences]\n",
        "print(train_labels)"
      ],
      "metadata": {
        "colab": {
          "base_uri": "https://localhost:8080/"
        },
        "id": "8qsAvGx6_ipN",
        "outputId": "758632eb-1462-4954-ca86-1a2afe671534"
      },
      "execution_count": null,
      "outputs": [
        {
          "output_type": "stream",
          "name": "stdout",
          "text": [
            "[[0, 0, 0, 0, 1], [0, 0, 0, 0, 1], [0, 0, 0, 1], [0, 0, 0, 1], [0, 0, 0, 1, 0, 1]]\n"
          ]
        }
      ]
    },
    {
      "cell_type": "code",
      "source": [
        "vocabulary = set(w for s in train_sentences for w in s)\n",
        "print(vocabulary)"
      ],
      "metadata": {
        "colab": {
          "base_uri": "https://localhost:8080/"
        },
        "id": "A5OfdgyWCFHD",
        "outputId": "31f9ceb3-5adb-44ae-afd2-17a09092f4e7"
      },
      "execution_count": null,
      "outputs": [
        {
          "output_type": "stream",
          "name": "stdout",
          "text": [
            "{'capital', 'ankara', 'he', 'of', 'we', 'professor', 'in', 'paris', 'australia', 'always', 'to', 'i', 'live', 'stanford', 'turkey', 'from', 'comes', 'is', 'the', 'come', 'taiwan'}\n"
          ]
        }
      ]
    },
    {
      "cell_type": "code",
      "source": [
        "#Add the unknown token to our vocabulary\n",
        "vocabulary.add(\"<unk>\")\n",
        "\n",
        "vocabulary.add(\"<pad>\")\n",
        "def pad_window(sentence, window_size, pad_token=\"<pad>\"):\n",
        "  window = [pad_token] * window_size\n",
        "  return window + sentence + window\n",
        "\n",
        "window_size = 2\n",
        "print(pad_window(train_sentences[0], window_size=window_size))"
      ],
      "metadata": {
        "colab": {
          "base_uri": "https://localhost:8080/"
        },
        "id": "rffMSPLqCYPg",
        "outputId": "04d59419-9f63-431b-8965-ea72de49fbe3"
      },
      "execution_count": null,
      "outputs": [
        {
          "output_type": "stream",
          "name": "stdout",
          "text": [
            "['<pad>', '<pad>', 'we', 'always', 'come', 'to', 'paris', '<pad>', '<pad>']\n"
          ]
        }
      ]
    },
    {
      "cell_type": "code",
      "source": [
        "ix_to_word = sorted(list(vocabulary))\n",
        "word_to_ix = {word:ind for ind, word in enumerate(ix_to_word)}\n",
        "print(word_to_ix)"
      ],
      "metadata": {
        "colab": {
          "base_uri": "https://localhost:8080/"
        },
        "id": "3iD_2SdFEtkL",
        "outputId": "56fac506-0671-474a-856c-1f69c793e677"
      },
      "execution_count": null,
      "outputs": [
        {
          "output_type": "stream",
          "name": "stdout",
          "text": [
            "{'<pad>': 0, '<unk>': 1, 'always': 2, 'ankara': 3, 'australia': 4, 'capital': 5, 'come': 6, 'comes': 7, 'from': 8, 'he': 9, 'i': 10, 'in': 11, 'is': 12, 'live': 13, 'of': 14, 'paris': 15, 'professor': 16, 'stanford': 17, 'taiwan': 18, 'the': 19, 'to': 20, 'turkey': 21, 'we': 22}\n"
          ]
        }
      ]
    },
    {
      "cell_type": "code",
      "source": [
        "ix_to_word[1]"
      ],
      "metadata": {
        "colab": {
          "base_uri": "https://localhost:8080/",
          "height": 35
        },
        "id": "OgFyICizGjq0",
        "outputId": "b9b9be29-5266-44d9-949d-752900f52e00"
      },
      "execution_count": null,
      "outputs": [
        {
          "output_type": "execute_result",
          "data": {
            "text/plain": [
              "'<unk>'"
            ],
            "application/vnd.google.colaboratory.intrinsic+json": {
              "type": "string"
            }
          },
          "metadata": {},
          "execution_count": 6
        }
      ]
    },
    {
      "cell_type": "code",
      "source": [
        "def convert_token_to_indices(sentence, word_to_ix):\n",
        "  indices = []\n",
        "  for token in sentence:\n",
        "    if token in word_to_ix:\n",
        "      index = word_to_ix[token]\n",
        "    else:\n",
        "      index = word_to_ix[\"<unk>\"]\n",
        "    indices.append(index)\n",
        "  return indices\n",
        "\n",
        "def _convert_token_to_indices(sentence, word_to_ix):\n",
        "  return [word_to_ind.get(token, word_to_ix[\"<unk>\"]) for token in sentence]\n",
        "\n",
        "example_sentence = [\"we\",\"always\",\"come\",\"to\",\"kuwait\"]\n",
        "example_indices = convert_token_to_indices(example_sentence, word_to_ix)\n",
        "restored_example = [ix_to_word[ind] for ind in example_indices]\n",
        "\n",
        "print(f\"Original sentence is : {example_sentence}\")\n",
        "print(f\"Going from words to indices: {example_indices}\")\n",
        "print(f\"Going from indices to words: {restored_example}\")"
      ],
      "metadata": {
        "colab": {
          "base_uri": "https://localhost:8080/"
        },
        "id": "DxXpbv8WGpFN",
        "outputId": "e31169ca-2b9d-4626-a7eb-ddfc73a1222b"
      },
      "execution_count": null,
      "outputs": [
        {
          "output_type": "stream",
          "name": "stdout",
          "text": [
            "Original sentence is : ['we', 'always', 'come', 'to', 'kuwait']\n",
            "Going from words to indices: [22, 2, 6, 20, 1]\n",
            "Going from indices to words: ['we', 'always', 'come', 'to', '<unk>']\n"
          ]
        }
      ]
    },
    {
      "cell_type": "code",
      "source": [
        "example_padded_indices = [convert_token_to_indices(s, word_to_ix) for s in train_sentences]\n",
        "print(example_padded_indices)"
      ],
      "metadata": {
        "colab": {
          "base_uri": "https://localhost:8080/"
        },
        "id": "jQ_R5HxeKjYq",
        "outputId": "bb5b3bdc-965e-4142-a3e1-b5624e39e429"
      },
      "execution_count": null,
      "outputs": [
        {
          "output_type": "stream",
          "name": "stdout",
          "text": [
            "[[22, 2, 6, 20, 15], [19, 16, 12, 8, 4], [10, 13, 11, 17], [9, 7, 8, 18], [19, 5, 14, 21, 12, 3]]\n"
          ]
        }
      ]
    },
    {
      "cell_type": "code",
      "source": [
        "embedding_dim = 5\n",
        "embeds = nn.Embedding(len(vocabulary), embedding_dim)\n",
        "list(embeds.parameters())"
      ],
      "metadata": {
        "colab": {
          "base_uri": "https://localhost:8080/"
        },
        "id": "eyTmXIlVLM1L",
        "outputId": "2417432a-c8a0-443c-e657-19981ae01886"
      },
      "execution_count": null,
      "outputs": [
        {
          "output_type": "execute_result",
          "data": {
            "text/plain": [
              "[Parameter containing:\n",
              " tensor([[ 0.1128,  1.4686, -0.3391,  1.6743,  0.8044],\n",
              "         [ 2.0078, -1.7484, -1.0447,  0.5435,  0.6409],\n",
              "         [ 0.6804,  0.4305,  1.4015,  0.3133,  0.0727],\n",
              "         [ 1.1641, -0.2828, -0.3186, -0.3514,  0.2487],\n",
              "         [-1.2190,  2.6069,  0.3437,  0.8992, -0.8399],\n",
              "         [-0.6473,  0.8299,  1.2357,  0.7291,  0.4590],\n",
              "         [-1.4029,  0.4665, -0.6737, -0.8666, -0.2332],\n",
              "         [ 1.9436,  0.0778,  0.8547,  2.3466, -0.2070],\n",
              "         [ 1.1855,  1.8207, -0.8656, -0.9261, -0.2997],\n",
              "         [ 0.9397, -0.3572, -0.1898,  1.1983, -1.1415],\n",
              "         [ 2.0151,  0.3944,  0.6605, -0.2400, -0.4339],\n",
              "         [ 0.7393,  0.4328, -1.8211, -0.7153,  0.1100],\n",
              "         [ 0.3360,  1.2404, -0.5756,  0.0267, -0.3576],\n",
              "         [-1.6264,  0.7343,  0.1250,  0.3723,  0.7326],\n",
              "         [ 1.3607,  2.2061, -1.0595,  1.3854, -0.3610],\n",
              "         [ 1.5852, -0.0804, -0.4942,  0.0179,  1.4699],\n",
              "         [ 0.3919,  0.5853, -0.1710,  1.3005, -0.4444],\n",
              "         [ 0.6841,  0.1590, -0.6437,  0.8733,  1.4664],\n",
              "         [ 0.0132, -0.4902, -0.7099,  0.7182, -0.4561],\n",
              "         [-1.9179,  2.8137, -0.1823, -0.4445, -0.8097],\n",
              "         [ 0.1766,  0.1052,  1.2577, -1.6455, -0.9199],\n",
              "         [-0.8389, -0.3156,  0.4796,  0.5494, -1.3560],\n",
              "         [-0.0223,  1.2306, -0.9243, -0.2675, -1.3214]], requires_grad=True)]"
            ]
          },
          "metadata": {},
          "execution_count": 9
        }
      ]
    },
    {
      "cell_type": "code",
      "source": [
        "index = word_to_ix[\"paris\"]\n",
        "index_tensor = torch.tensor(index, dtype=torch.long)\n",
        "paris_embed = embeds(index_tensor)\n",
        "print(paris_embed)"
      ],
      "metadata": {
        "colab": {
          "base_uri": "https://localhost:8080/"
        },
        "id": "H93wjw8DPKqI",
        "outputId": "16754937-c5ea-44bc-840b-21af2854800f"
      },
      "execution_count": null,
      "outputs": [
        {
          "output_type": "stream",
          "name": "stdout",
          "text": [
            "tensor([ 1.5852, -0.0804, -0.4942,  0.0179,  1.4699],\n",
            "       grad_fn=<EmbeddingBackward0>)\n"
          ]
        }
      ]
    },
    {
      "cell_type": "code",
      "source": [
        "index_paris = word_to_ix[\"paris\"]\n",
        "index_ankara = word_to_ix[\"ankara\"]\n",
        "indices = [index_paris,index_ankara]\n",
        "indices_tensor = torch.tensor(indices, dtype=torch.long)\n",
        "embeddings = embeds(indices_tensor)\n",
        "print(embeddings)"
      ],
      "metadata": {
        "id": "oRtHP6qDPwdB",
        "colab": {
          "base_uri": "https://localhost:8080/"
        },
        "outputId": "f592c103-8a6d-4069-9ba3-c65d24c81ad8"
      },
      "execution_count": null,
      "outputs": [
        {
          "output_type": "stream",
          "name": "stdout",
          "text": [
            "tensor([[ 1.5852, -0.0804, -0.4942,  0.0179,  1.4699],\n",
            "        [ 1.1641, -0.2828, -0.3186, -0.3514,  0.2487]],\n",
            "       grad_fn=<EmbeddingBackward0>)\n"
          ]
        }
      ]
    },
    {
      "cell_type": "code",
      "source": [
        "from torch.utils.data import DataLoader\n",
        "from functools import partial\n",
        "\n",
        "def custom_collate_fn(batch, window_size, word_to_ix):\n",
        "  x, y = zip(*batch)\n",
        "\n",
        "  def pad_window(sentence, window_size, pad_token=\"<pad>\"):\n",
        "    window = [pad_token]*window_size\n",
        "    return window + sentence + window\n",
        "\n",
        "  x = [pad_window(s,window_size = window_size) for s in x]\n",
        "\n",
        "  def convert_tokens_to_indices(sentence, word_to_ix):\n",
        "    return [word_to_ix.get(token, word_to_ix[\"<unk>\"]) for token in sentence]\n",
        "  \n",
        "  x = [convert_tokens_to_indices(s,word_to_ix) for s in x]\n",
        "  \n",
        "  pad_token_ix = word_to_ix[\"<pad>\"]\n",
        "\n",
        "  x = [torch.LongTensor(x_i) for x_i in x]\n",
        "  x_padded = nn.utils.rnn.pad_sequence(x, batch_first=True, padding_value=pad_token_ix)\n",
        "\n",
        "  lengths = [len(label) for label in y]\n",
        "  lengths = torch.LongTensor(lengths)\n",
        "\n",
        "  y = [torch.LongTensor(y_i) for y_i in y]\n",
        "  y_padded = nn.utils.rnn.pad_sequence(y, batch_first=True, padding_value=0)\n",
        "\n",
        "  return x_padded, y_padded, lengths\n"
      ],
      "metadata": {
        "id": "tVnVrNV3FMgS"
      },
      "execution_count": null,
      "outputs": []
    },
    {
      "cell_type": "code",
      "source": [
        "def _custom_collate_fn(batch, window_size, word_to_ix):\n",
        "  x, y = zip(*batch)\n",
        "  x = [pad_window(s,window_size=window_size) for s in x]\n",
        "  x = [convert_tokens_to_indices(s, word_to_ix) for s in x]\n",
        "\n",
        "  pad_token_ix = word_to_ix[\"<pad>\"]\n",
        "  x = [torch.LongTensor(x_i) for x_i in x]\n",
        "  x_padded = nn.utils.rnn.pad_sequence(x, batch_first=True, padding_value = pad_token_ix)\n",
        "\n",
        "  lengths = [len(label) for label in y]\n",
        "  lengths = torch.LongTensor(lengths)\n",
        "  y = [torch.LongTensor(y_i) for y_i in y]\n",
        "  y_padded = nn.utils.rnn.pad_sequence(y,batch_first=True,padding_value=0)\n",
        "\n",
        "  return x_padded, y_padded, lengths"
      ],
      "metadata": {
        "id": "KfJt6GJEJIDA"
      },
      "execution_count": null,
      "outputs": []
    },
    {
      "cell_type": "code",
      "source": [
        "data = list(zip(train_sentences, train_labels))\n",
        "batch_size = 2\n",
        "shuffle = True\n",
        "window_size = 2\n",
        "collate_fn = partial(custom_collate_fn, window_size = window_size, word_to_ix = word_to_ix)\n",
        "loader = DataLoader(data, batch_size = batch_size, shuffle=shuffle, collate_fn=collate_fn)\n",
        "counter = 0\n",
        "for batched_x, batched_y, batched_lengths in loader:\n",
        "  print(f\"Iteration {counter}\")\n",
        "  print(\"Batched Input:\")\n",
        "  print(batched_x)\n",
        "  print(\"Batched Labels:\")\n",
        "  print(batched_y)\n",
        "  print(\"Batched Lengths:\")\n",
        "  print(batched_lengths)\n",
        "  print(\"\")\n",
        "  counter += 1"
      ],
      "metadata": {
        "colab": {
          "base_uri": "https://localhost:8080/"
        },
        "id": "bUwKVynRNj5P",
        "outputId": "d95eaa45-ace2-48ac-c300-74e1fb2f1559"
      },
      "execution_count": null,
      "outputs": [
        {
          "output_type": "stream",
          "name": "stdout",
          "text": [
            "Iteration 0\n",
            "Batched Input:\n",
            "tensor([[ 0,  0,  9,  7,  8, 18,  0,  0,  0],\n",
            "        [ 0,  0, 22,  2,  6, 20, 15,  0,  0]])\n",
            "Batched Labels:\n",
            "tensor([[0, 0, 0, 1, 0],\n",
            "        [0, 0, 0, 0, 1]])\n",
            "Batched Lengths:\n",
            "tensor([4, 5])\n",
            "\n",
            "Iteration 1\n",
            "Batched Input:\n",
            "tensor([[ 0,  0, 19,  5, 14, 21, 12,  3,  0,  0],\n",
            "        [ 0,  0, 10, 13, 11, 17,  0,  0,  0,  0]])\n",
            "Batched Labels:\n",
            "tensor([[0, 0, 0, 1, 0, 1],\n",
            "        [0, 0, 0, 1, 0, 0]])\n",
            "Batched Lengths:\n",
            "tensor([6, 4])\n",
            "\n",
            "Iteration 2\n",
            "Batched Input:\n",
            "tensor([[ 0,  0, 19, 16, 12,  8,  4,  0,  0]])\n",
            "Batched Labels:\n",
            "tensor([[0, 0, 0, 0, 1]])\n",
            "Batched Lengths:\n",
            "tensor([5])\n",
            "\n"
          ]
        }
      ]
    },
    {
      "cell_type": "code",
      "source": [
        "print(f\"Original Tensor:\")\n",
        "print(batched_x)\n",
        "print(\"\")\n",
        "\n",
        "chunk = batched_x.unfold(1, window_size*2 + 1, 1)\n",
        "print(f\"Windows:\")\n",
        "print(chunk)"
      ],
      "metadata": {
        "colab": {
          "base_uri": "https://localhost:8080/"
        },
        "id": "UTYyANW-Psff",
        "outputId": "8bf73b42-f16a-4acb-861e-faa12c9122be"
      },
      "execution_count": null,
      "outputs": [
        {
          "output_type": "stream",
          "name": "stdout",
          "text": [
            "Original Tensor:\n",
            "tensor([[ 0,  0, 19, 16, 12,  8,  4,  0,  0]])\n",
            "\n",
            "Windows:\n",
            "tensor([[[ 0,  0, 19, 16, 12],\n",
            "         [ 0, 19, 16, 12,  8],\n",
            "         [19, 16, 12,  8,  4],\n",
            "         [16, 12,  8,  4,  0],\n",
            "         [12,  8,  4,  0,  0]]])\n"
          ]
        }
      ]
    },
    {
      "cell_type": "code",
      "source": [
        "class WordWindowClassifier(nn.Module):\n",
        "  def __init__(self, hyperparameters, vocab_size, pad_ix=0):\n",
        "    super(WordWindowClassifier, self).__init__()\n",
        "\n",
        "    self.window_size = hyperparameters[\"window_size\"]\n",
        "    self.embed_dim = hyperparameters[\"embed_dim\"]\n",
        "    self.hidden_dim = hyperparameters[\"hidden_dim\"]\n",
        "    self.freeze_embeddings = hyperparameters[\"freeze_embeddings\"]\n",
        "\n",
        "    self.embeds = nn.Embedding(vocab_size, self.embed_dim, padding_idx=pad_ix)\n",
        "    if self.freeze_embeddings:\n",
        "      self.embed_layer.weight.requires_grad = False\n",
        "    \n",
        "    full_window_size = 2*window_size+1\n",
        "    self.hidden_layer = nn.Sequential(\n",
        "        nn.Linear(full_window_size * self.embed_dim, self.hidden_dim),\n",
        "        nn.Tanh()\n",
        "    )\n",
        "    self.output_layer = nn.Linear(self.hidden_dim, 1)\n",
        "    self.probabilities = nn.Sigmoid()\n",
        "\n",
        "  def forward(self, inputs):\n",
        "    B, L = inputs.size()\n",
        "    token_windows = inputs.unfold(1, 2*self.window_size+1, 1)\n",
        "    _, adjusted_length,_ = token_windows.size()\n",
        "\n",
        "    assert token_windows.size() == (B, adjusted_length, 2*self.window_size+1)\n",
        "\n",
        "    embedded_windows = self.embeds(token_windows)\n",
        "\n",
        "    embedded_windows = embedded_windows.view(B, adjusted_length, -1)\n",
        "\n",
        "    layer_1 = self.hidden_layer(embedded_windows)\n",
        "\n",
        "    output = self.output_layer(layer_1)\n",
        "\n",
        "    output = self.probabilities(output)\n",
        "    output = output.view(B,-1)\n",
        "\n",
        "    return output\n",
        "\n"
      ],
      "metadata": {
        "id": "X1LoyBGoQX8M"
      },
      "execution_count": null,
      "outputs": []
    },
    {
      "cell_type": "code",
      "source": [
        "data = list(zip(train_sentences, train_labels))\n",
        "batch_size = 2\n",
        "shuffle = True \n",
        "window_size = 2\n",
        "collate_fn = partial(custom_collate_fn, window_size = window_size, word_to_ix = word_to_ix)\n",
        "loader = DataLoader(data, batch_size = batch_size, shuffle=shuffle, collate_fn=collate_fn)\n",
        "model_hyperparameters = {\n",
        "    \"batch_size\":4,\n",
        "    \"window_size\":2,\n",
        "    \"embed_dim\":25,\n",
        "    \"hidden_dim\":25,\n",
        "    \"freeze_embeddings\":False,\n",
        "}\n",
        "\n",
        "vocab_size = len(word_to_ix)\n",
        "model = WordWindowClassifier(model_hyperparameters, vocab_size)\n",
        "\n",
        "learning_rate = 0.01\n",
        "optimizer = torch.optim.SGD(model.parameters(),lr=learning_rate)\n",
        "\n",
        "def loss_function(batch_outputs, batch_labels, batch_lengths):\n",
        "  bceloss = nn.BCELoss()\n",
        "  loss = bceloss(batch_outputs, batch_labels.float())\n",
        "  loss = loss/batch_lengths.sum().float()\n",
        "\n",
        "  return loss"
      ],
      "metadata": {
        "id": "LHvjLN9TX5wS"
      },
      "execution_count": null,
      "outputs": []
    },
    {
      "cell_type": "code",
      "source": [
        "def train_epoch(loss_function, optimizer, model, loader):\n",
        "  total_loss = 0\n",
        "  for batch_inputs, batch_labels, batch_lengths in loader:\n",
        "    optimizer.zero_grad()\n",
        "    outputs = model.forward(batch_inputs)\n",
        "    loss = loss_function(outputs, batch_labels, batch_lengths)\n",
        "    loss.backward()\n",
        "    optimizer.step()\n",
        "    total_loss += loss.item()\n",
        "  return total_loss\n",
        "\n",
        "def train(loss_function, optimizer, moel, loader, num_epochs=10000):\n",
        "  for epoch in range(num_epochs):\n",
        "    epoch_loss = train_epoch(loss_function, optimizer, model, loader)\n",
        "    if epoch%100 == 0: print(epoch_loss)"
      ],
      "metadata": {
        "id": "U2HOMiQjfipY"
      },
      "execution_count": null,
      "outputs": []
    },
    {
      "cell_type": "code",
      "source": [
        "num_epochs = 1000\n",
        "train(loss_function, optimizer, model, loader, num_epochs=num_epochs)"
      ],
      "metadata": {
        "colab": {
          "base_uri": "https://localhost:8080/"
        },
        "id": "3WyMrDVxqyz7",
        "outputId": "c8a90ac8-12ed-4880-9a9c-25076cb914c3"
      },
      "execution_count": null,
      "outputs": [
        {
          "output_type": "stream",
          "name": "stdout",
          "text": [
            "0.23924871534109116\n",
            "0.1817886345088482\n",
            "0.1397198811173439\n",
            "0.09675858914852142\n",
            "0.08276921324431896\n",
            "0.067077761515975\n",
            "0.047861034981906414\n",
            "0.03553804475814104\n",
            "0.03287338186055422\n",
            "0.026043725665658712\n"
          ]
        }
      ]
    },
    {
      "cell_type": "code",
      "source": [
        "test_corpus = [\"She comes from Paris\"]\n",
        "test_sentences = [s.lower().split() for s in test_corpus]\n",
        "test_labels = [[0,0,0,1]]\n",
        "\n",
        "test_data = list(zip(test_sentences, test_labels))\n",
        "batch_size = 1\n",
        "shuffle = False\n",
        "window_size = 2\n",
        "collate_fn = partial(custom_collate_fn, window_size = 2, word_to_ix = word_to_ix)\n",
        "test_loader = torch.utils.data.DataLoader(test_data,\n",
        "                                          batch_size=1,\n",
        "                                          shuffle=False,\n",
        "                                          collate_fn = collate_fn)\n"
      ],
      "metadata": {
        "id": "fwHYcRrrwNWB"
      },
      "execution_count": null,
      "outputs": []
    },
    {
      "cell_type": "code",
      "source": [
        "for test_instance, labels, _ in test_loader:\n",
        "  outputs = model.forward(test_instance)\n",
        "  print(labels)\n",
        "  print(outputs)\n"
      ],
      "metadata": {
        "colab": {
          "base_uri": "https://localhost:8080/"
        },
        "id": "upbLBMPMxFwF",
        "outputId": "9022b819-99c3-4b68-e104-c4badb10d1d1"
      },
      "execution_count": null,
      "outputs": [
        {
          "output_type": "stream",
          "name": "stdout",
          "text": [
            "tensor([[0, 0, 0, 1]])\n",
            "tensor([[0.1542, 0.0419, 0.4553, 0.9657]], grad_fn=<ViewBackward0>)\n"
          ]
        }
      ]
    }
  ]
}